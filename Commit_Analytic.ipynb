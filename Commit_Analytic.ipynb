{
 "cells": [
  {
   "cell_type": "markdown",
   "metadata": {
    "id": "J348_wQmUC7p"
   },
   "source": [
    "# Import all the stuff"
   ]
  },
  {
   "cell_type": "code",
   "execution_count": 6,
   "metadata": {
    "colab": {
     "base_uri": "https://localhost:8080/"
    },
    "id": "xrM-lsIWRUg1",
    "outputId": "1c5c24dc-672d-4bfd-d4c1-82e3a2b480c1"
   },
   "outputs": [
    {
     "name": "stdout",
     "output_type": "stream",
     "text": [
      "Requirement already satisfied: bert-serving-client in /Users/justinbrulotte/.pyenv/versions/3.8.5/lib/python3.8/site-packages (1.10.0)\n",
      "Requirement already satisfied: numpy in /Users/justinbrulotte/.pyenv/versions/3.8.5/lib/python3.8/site-packages (from bert-serving-client) (1.18.5)\n",
      "Requirement already satisfied: pyzmq>=17.1.0 in /Users/justinbrulotte/.pyenv/versions/3.8.5/lib/python3.8/site-packages (from bert-serving-client) (21.0.1)\n",
      "Requirement already satisfied: pandas in /Users/justinbrulotte/.pyenv/versions/3.8.5/lib/python3.8/site-packages (1.2.1)\n",
      "Requirement already satisfied: python-dateutil>=2.7.3 in /Users/justinbrulotte/.pyenv/versions/3.8.5/lib/python3.8/site-packages (from pandas) (2.8.1)\n",
      "Requirement already satisfied: pytz>=2017.3 in /Users/justinbrulotte/.pyenv/versions/3.8.5/lib/python3.8/site-packages (from pandas) (2020.5)\n",
      "Requirement already satisfied: numpy>=1.16.5 in /Users/justinbrulotte/.pyenv/versions/3.8.5/lib/python3.8/site-packages (from pandas) (1.18.5)\n",
      "Requirement already satisfied: six>=1.5 in /Users/justinbrulotte/.pyenv/versions/3.8.5/lib/python3.8/site-packages (from python-dateutil>=2.7.3->pandas) (1.15.0)\n",
      "\u001b[31mERROR: Could not find a version that satisfies the requirement tensorflow==1.15.0\u001b[0m\n",
      "\u001b[31mERROR: No matching distribution found for tensorflow==1.15.0\u001b[0m\n",
      "Requirement already satisfied: matplotlib in /Users/justinbrulotte/.pyenv/versions/3.8.5/lib/python3.8/site-packages (3.3.3)\n",
      "Requirement already satisfied: pyparsing!=2.0.4,!=2.1.2,!=2.1.6,>=2.0.3 in /Users/justinbrulotte/.pyenv/versions/3.8.5/lib/python3.8/site-packages (from matplotlib) (2.4.7)\n",
      "Requirement already satisfied: numpy>=1.15 in /Users/justinbrulotte/.pyenv/versions/3.8.5/lib/python3.8/site-packages (from matplotlib) (1.18.5)\n",
      "Requirement already satisfied: cycler>=0.10 in /Users/justinbrulotte/.pyenv/versions/3.8.5/lib/python3.8/site-packages (from matplotlib) (0.10.0)\n",
      "Requirement already satisfied: pillow>=6.2.0 in /Users/justinbrulotte/.pyenv/versions/3.8.5/lib/python3.8/site-packages (from matplotlib) (8.1.0)\n",
      "Requirement already satisfied: python-dateutil>=2.1 in /Users/justinbrulotte/.pyenv/versions/3.8.5/lib/python3.8/site-packages (from matplotlib) (2.8.1)\n",
      "Requirement already satisfied: kiwisolver>=1.0.1 in /Users/justinbrulotte/.pyenv/versions/3.8.5/lib/python3.8/site-packages (from matplotlib) (1.3.1)\n",
      "Requirement already satisfied: six in /Users/justinbrulotte/.pyenv/versions/3.8.5/lib/python3.8/site-packages (from cycler>=0.10->matplotlib) (1.15.0)\n",
      "Requirement already satisfied: keras in /Users/justinbrulotte/.pyenv/versions/3.8.5/lib/python3.8/site-packages (2.4.3)\n",
      "Requirement already satisfied: numpy>=1.9.1 in /Users/justinbrulotte/.pyenv/versions/3.8.5/lib/python3.8/site-packages (from keras) (1.18.5)\n",
      "Requirement already satisfied: pyyaml in /Users/justinbrulotte/.pyenv/versions/3.8.5/lib/python3.8/site-packages (from keras) (5.4)\n",
      "Requirement already satisfied: scipy>=0.14 in /Users/justinbrulotte/.pyenv/versions/3.8.5/lib/python3.8/site-packages (from keras) (1.4.1)\n",
      "Requirement already satisfied: h5py in /Users/justinbrulotte/.pyenv/versions/3.8.5/lib/python3.8/site-packages (from keras) (2.10.0)\n",
      "Requirement already satisfied: six in /Users/justinbrulotte/.pyenv/versions/3.8.5/lib/python3.8/site-packages (from h5py->keras) (1.15.0)\n"
     ]
    }
   ],
   "source": [
    "!pip install bert-serving-client\n",
    "!pip install pandas\n",
    "!pip install tensorflow==1.15.0\n",
    "!pip install matplotlib\n",
    "!pip install keras\n",
    "\n",
    "import random\n",
    "import pandas as pd\n",
    "import numpy as np\n",
    "import tensorflow as tf\n",
    "import matplotlib.pyplot as plt\n",
    "\n",
    "from keras import backend as K\n",
    "from keras.models import Sequential, load_model\n",
    "from keras.layers import Dense\n",
    "from keras.optimizers import SGD\n",
    "from keras.initializers import RandomUniform\n",
    "\n",
    "from bert_serving.client import BertClient\n"
   ]
  },
  {
   "cell_type": "code",
   "execution_count": 7,
   "metadata": {
    "id": "QPnUckmFXy9o"
   },
   "outputs": [
    {
     "data": {
      "text/plain": [
       "array([[ 0.13186474,  0.32404128, -0.82704437, ..., -0.3711958 ,\n",
       "        -0.39250174, -0.31721866],\n",
       "       [ 0.24873531, -0.12334424, -0.38933852, ..., -0.44756213,\n",
       "        -0.5591355 , -0.11345179],\n",
       "       [ 0.28627345, -0.18580122, -0.30906814, ..., -0.2959366 ,\n",
       "        -0.39310536,  0.07640187]], dtype=float32)"
      ]
     },
     "execution_count": 7,
     "metadata": {},
     "output_type": "execute_result"
    }
   ],
   "source": [
    "bc = BertClient()\n",
    "bc.encode(['First do it', 'then do it right', 'then do it better'])"
   ]
  },
  {
   "cell_type": "markdown",
   "metadata": {
    "id": "1p1jGErRUyoG"
   },
   "source": [
    "# Testing the code"
   ]
  },
  {
   "cell_type": "code",
   "execution_count": 8,
   "metadata": {
    "colab": {
     "base_uri": "https://localhost:8080/",
     "height": 345
    },
    "id": "t7cC5E_8WYvr",
    "outputId": "3e2211f8-a3e7-4f9c-eaff-7b53e8b1c9cf"
   },
   "outputs": [
    {
     "name": "stdout",
     "output_type": "stream",
     "text": [
      "Model: \"sequential_1\"\n",
      "_________________________________________________________________\n",
      "Layer (type)                 Output Shape              Param #   \n",
      "=================================================================\n",
      "dense_2 (Dense)              (None, 32)                192       \n",
      "_________________________________________________________________\n",
      "dense_3 (Dense)              (None, 1)                 33        \n",
      "=================================================================\n",
      "Total params: 225\n",
      "Trainable params: 225\n",
      "Non-trainable params: 0\n",
      "_________________________________________________________________\n"
     ]
    }
   ],
   "source": [
    "x_input = np.array([[1,2,3,4,5]])\n",
    "y_input = np.array([[10]])\n",
    "\n",
    "model = Sequential()\n",
    "model.add(Dense(units=32, activation=\"tanh\", input_dim=x_input.shape[1], kernel_initializer='random_normal'))\n",
    "model.add(Dense(units=1, kernel_initializer='random_normal'))\n",
    "\n",
    "model.compile(loss='mse', optimizer='sgd', metrics=['accuracy'])\n",
    "\n",
    "model.summary()"
   ]
  },
  {
   "cell_type": "markdown",
   "metadata": {
    "id": "VVcYOFp5V1is"
   },
   "source": [
    "# Run a model"
   ]
  },
  {
   "cell_type": "code",
   "execution_count": null,
   "metadata": {
    "colab": {
     "base_uri": "https://localhost:8080/"
    },
    "id": "mGHfCV3hTylx",
    "outputId": "4999c918-a7cf-40a8-bcf6-8e932e522336"
   },
   "outputs": [],
   "source": [
    "print(\"allo\")"
   ]
  },
  {
   "cell_type": "code",
   "execution_count": null,
   "metadata": {},
   "outputs": [],
   "source": []
  }
 ],
 "metadata": {
  "colab": {
   "collapsed_sections": [],
   "name": "Commit Analytic.ipynb",
   "provenance": [],
   "toc_visible": true
  },
  "kernelspec": {
   "display_name": "Python 3",
   "language": "python",
   "name": "python3"
  },
  "language_info": {
   "codemirror_mode": {
    "name": "ipython",
    "version": 3
   },
   "file_extension": ".py",
   "mimetype": "text/x-python",
   "name": "python",
   "nbconvert_exporter": "python",
   "pygments_lexer": "ipython3",
   "version": "3.8.5"
  }
 },
 "nbformat": 4,
 "nbformat_minor": 1
}
